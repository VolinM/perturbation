{
 "cells": [
  {
   "attachments": {},
   "cell_type": "markdown",
   "metadata": {},
   "source": [
    "# Time Independent Schrödinger Equation"
   ]
  },
  {
   "attachments": {},
   "cell_type": "markdown",
   "metadata": {},
   "source": [
    "## Development"
   ]
  },
  {
   "attachments": {},
   "cell_type": "markdown",
   "metadata": {},
   "source": [
    "### The Time-Independent Schrödinger Equation"
   ]
  },
  {
   "attachments": {},
   "cell_type": "markdown",
   "metadata": {},
   "source": [
    "In position-space, Schrödinger's Equation reads:\n",
    "\n",
    "$\\textstyle i\\hbar \\frac{\\partial\\Psi}{\\partial t} = \\frac{-\\hbar^2}{2m}\\frac{\\partial^2\\Psi}{\\partial x^2}+V\\cdot\\Psi$\n",
    "\n",
    "If the potential is independent of time, it is possible to solve the equation by separation of variables. For this, we propose a solution of the form:\n",
    "\n",
    "$\\textstyle \\Psi(x,t)=\\phi(x)\\cdot\\chi(t)$\n",
    "\n",
    "so that the equation becomes:\n",
    "\n",
    "$\\textstyle i\\hbar\\cdot\\phi(x)\\frac{\\partial\\chi(t)}{\\partial t} = \\frac{-\\hbar^2}{2m}\\chi(t)\\frac{\\partial^2\\phi(x)}{\\partial x^2}+V(x)\\cdot\\phi(x)\\chi(t)$\n",
    "\n",
    "Dividing through by $\\Psi$\n",
    "\n",
    "$\\textstyle \\frac{i\\hbar}{\\chi(t)} \\frac{\\partial\\chi(t)}{\\partial t} = \\frac{-\\hbar^2}{2m}\\frac{1}{\\phi(x)}\\frac{\\partial^2\\phi(x)}{\\partial x^2}+V(x)$\n",
    "\n",
    "Since both sides of this equation depend only on one variable, they must both equual a constant. Denoting said constant by $E$ we get:\n",
    "\n",
    "$\\textstyle {i\\hbar} \\frac{\\partial\\chi(t)}{\\partial t} = E\\cdot{\\chi(t)}$\n",
    "\n",
    "$\\textstyle \\frac{-\\hbar^2}{2m}\\frac{\\partial^2\\phi(x)}{\\partial x^2}+V(x)\\cdot\\phi(x) = E\\cdot\\phi(x)$\n",
    "\n",
    "The second of these is the time-independent Schrödinger Equation, which can alternatively be written in *bracket* notation as\n",
    "\n",
    "$\\displaystyle \\hat{H}\\left|\\phi\\right> = E\\left|\\phi\\right>$\n",
    "\n",
    "**We are going to solve this equation for a particle bounded to a finite region in space.**\n",
    "\n",
    "___"
   ]
  },
  {
   "attachments": {},
   "cell_type": "markdown",
   "metadata": {},
   "source": [
    "### Finite Difference Method"
   ]
  },
  {
   "attachments": {},
   "cell_type": "markdown",
   "metadata": {},
   "source": [
    "Given a function $f(x)$ we can expand $f(x+\\Delta x)$ through a Taylor Series expantion about x:\n",
    "\n",
    "$\\textstyle f(x+\\Delta x) = f(x) + \\Delta x\\cdot f'(x) + \\mathcal{O}(\\Delta x^2)$\n",
    "\n",
    "so we can define the **first forward finite difference** as:\n",
    "\n",
    "$f'_+\\approx \\frac{f(x + \\Delta x)-f(x)}{\\Delta x}$\n",
    "\n",
    "similarly, by expanding $f(x-\\Delta x)$, we define de **first backwards finite difference**:\n",
    "\n",
    "$f'_-\\approx \\frac{f(x)-f(x - \\Delta x)}{\\Delta x}$\n",
    "\n",
    "from this we can approximate the second derivative $f''(x)$ by:\n",
    "\n",
    "$f''(x) \\approx \\frac{f'_+(x)-f'_-(x)}{\\Delta x} = \\frac{\\frac{f(x + \\Delta x)-f(x)}{\\Delta x}-\\frac{f(x)-f(x - \\Delta x)}{\\Delta x}}{\\Delta x} = \\frac{f(x+\\Delta x)-2\\cdot f(x) + f(x-\\Delta x)}{\\Delta x^2}$\n",
    "\n",
    "___"
   ]
  },
  {
   "attachments": {},
   "cell_type": "markdown",
   "metadata": {},
   "source": [
    "### Numerical Solution to the Time-Independent Schrödinger Equation"
   ]
  },
  {
   "attachments": {},
   "cell_type": "markdown",
   "metadata": {},
   "source": [
    "If the particle is contained within a finite region of lenght $L$, we can subdivide the region on $N$ subitnervals of lenght $\\Delta x = \\frac{L}{N}$, such that we define the points:\n",
    "\n",
    "$0,\\,\\Delta x,\\,2\\cdot\\Delta x,\\,3\\cdot\\Delta x,\\,\\dots,\\,(N-1)\\cdot\\Delta x,\\,L$\n",
    "\n",
    "or\n",
    "\n",
    "$\\displaystyle x_0,\\,x_1,\\,x_2,\\,\\dots,\\,x_{N-1},\\,x_N$\n",
    "\n",
    "thus, if we employ the notation $\\phi_i := \\phi(x_i)$, we can write Schrödingers Equation in terms of finite difference approximations as:\n",
    "\n",
    "$\\displaystyle \\frac{-\\hbar^2}{2m}\\left(\\frac{\\phi_{i+1}-2\\cdot \\phi_i + \\phi_{i-1}}{\\Delta x^2}\\right)+V_i\\cdot\\phi_i=E\\cdot\\phi_i$\n",
    "\n",
    "If the particle is to be bounded to the region in question, we can impose the boundry conditions $\\phi_0=\\phi_N=0$. Thus, setting $\\hbar=m=1$, we get the following equations:\n",
    "\n",
    "$\\begin{cases}\\frac{-1}{2\\cdot\\Delta x^2}\\,(\\phi_0 - 2\\cdot\\phi_1 + \\phi_2) + V_1\\cdot\\phi_1 = E\\cdot\\phi_1\\\\[5pt]\n",
    "\\frac{-1}{2\\cdot\\Delta x^2}\\,(\\phi_1 - 2\\cdot\\phi_2 + \\phi_3) + V_2\\cdot\\phi_2 = E\\cdot\\phi_2\\\\[5pt]\n",
    "\\frac{-1}{2\\cdot\\Delta x^2}\\,(\\phi_2 - 2\\cdot\\phi_3 + \\phi_4) + V_3\\cdot\\phi_3 = E\\cdot\\phi_3\\\\[5pt]\n",
    "\\vdots\\\\[5pt]\n",
    "\\frac{-1}{2\\cdot\\Delta x^2}\\,(\\phi_0 - 2\\cdot\\phi_1 + \\phi_2) + V_1\\cdot\\phi_1 = E\\cdot\\phi_1\\\\[5pt]\n",
    "\\frac{-1}{2\\cdot\\Delta x^2}\\,(\\phi_{N-2} - 2\\cdot\\phi_{N-1} + \\phi_{N}) + V_1\\cdot\\phi_{N-1} = E\\cdot\\phi_{N-1}\\end{cases}$\n",
    "\n",
    "which can be expressed in matrix form as:\n",
    "\n",
    "$\\frac{-1}{2\\cdot\\Delta x^2}\\begin{pmatrix}-2&1&0&0&0&\\cdots&0&0&0\\\\1&-2&1&0&0&\\cdots&0&0&0\\\\0&1&-2&1&0&\\cdots&0&0&0\\\\0&0&1&-2&1&\\cdots&0&0&0\\\\\\vdots&\\vdots&\\vdots&\\vdots&\\vdots&\\ddots&\\vdots&\\vdots&\\vdots\\\\0&0&0&0&0&\\dots&-2&1&0\\\\0&0&0&0&0&\\dots&1&-2&1\\\\0&0&0&0&0&\\dots&0&1&-2\\end{pmatrix}\\begin{pmatrix}\\phi_1\\\\\\phi_2\\\\\\phi_3\\\\\\phi_4\\\\\\vdots\\\\\\phi_{N-3}\\\\\\phi_{N-2}\\\\\\phi_{N-1}\\end{pmatrix}+\\begin{pmatrix}V_1&0&0&0&0&\\cdots&0&0&0\\\\0&V_2&0&0&0&\\cdots&0&0&0\\\\0&0&V_3&0&0&\\cdots&0&0&0\\\\0&0&0&V_4&0&\\cdots&0&0&0\\\\\\vdots&\\vdots&\\vdots&\\vdots&\\vdots&\\ddots&\\vdots&\\vdots&\\vdots\\\\0&0&0&0&0&\\dots&V_{N-3}&0&0\\\\0&0&0&0&0&\\dots&0&V_{N-2}&0\\\\0&0&0&0&0&\\dots&0&0&V_{N-1}\\end{pmatrix}\\begin{pmatrix}\\phi_1\\\\\\phi_2\\\\\\phi_3\\\\\\phi_4\\\\\\vdots\\\\\\phi_{N-3}\\\\\\phi_{N-2}\\\\\\phi_{N-1}\\end{pmatrix}=E\\begin{pmatrix}\\phi_1\\\\\\phi_2\\\\\\phi_3\\\\\\phi_4\\\\\\vdots\\\\\\phi_{N-3}\\\\\\phi_{N-2}\\\\\\phi_{N-1}\\end{pmatrix}$\n",
    "\n",
    "The first matrix can be associated with the *kinetic energy* $T$, while the second one clearly represents the *potential energy* $V$. Thus, by defining the *Hamiltonian* as $H=T+V$, we have the **discrete** eigenvalue equation:\n",
    "\n",
    "$H_{ij}\\,\\phi_i = E\\,\\phi_i$\n",
    "\n",
    "which can be solved for the *eigen-energies* and *eigen-sates* by the Linear Algebra module of the Numpy library"
   ]
  },
  {
   "attachments": {},
   "cell_type": "markdown",
   "metadata": {},
   "source": [
    "___\n",
    "___"
   ]
  },
  {
   "cell_type": "markdown",
   "metadata": {},
   "source": [
    "## Code"
   ]
  },
  {
   "attachments": {},
   "cell_type": "markdown",
   "metadata": {},
   "source": [
    "### Setup"
   ]
  },
  {
   "attachments": {},
   "cell_type": "markdown",
   "metadata": {},
   "source": [
    "**Importing Libraries**"
   ]
  },
  {
   "cell_type": "code",
   "execution_count": 80,
   "metadata": {},
   "outputs": [],
   "source": [
    "import matplotlib.pyplot as plt\n",
    "import numpy as np\n",
    "import pandas as pd"
   ]
  },
  {
   "attachments": {},
   "cell_type": "markdown",
   "metadata": {},
   "source": [
    "**Physical Constants**"
   ]
  },
  {
   "cell_type": "code",
   "execution_count": 81,
   "metadata": {},
   "outputs": [],
   "source": [
    "hbar = 1 # reduced plank's constant\n",
    "m = 1    # particle's mass"
   ]
  },
  {
   "attachments": {},
   "cell_type": "markdown",
   "metadata": {},
   "source": [
    "**Problem Parameters**"
   ]
  },
  {
   "cell_type": "code",
   "execution_count": 82,
   "metadata": {
    "tags": []
   },
   "outputs": [],
   "source": [
    "a = -10 # beginning of the potential well\n",
    "b = 10  # end of the potential well\n",
    "N = 101 # number of subintervals\n",
    "\n",
    "xs = np.linspace(a,b,N) # array of subintervals\n",
    "dx = xs[1]-xs[0]        # step size"
   ]
  },
  {
   "attachments": {},
   "cell_type": "markdown",
   "metadata": {},
   "source": [
    "**Potential**"
   ]
  },
  {
   "cell_type": "code",
   "execution_count": 83,
   "metadata": {
    "tags": [
     "Potential"
    ]
   },
   "outputs": [],
   "source": [
    "# Definition of the potential function\n",
    "\n",
    "def potential(x):\n",
    "    return 0\n",
    "    if (a+1*dx) < x < (b-1*dx):\n",
    "        return 0\n",
    "    else:\n",
    "        return 1e20"
   ]
  },
  {
   "attachments": {},
   "cell_type": "markdown",
   "metadata": {},
   "source": [
    "### Finite Difference Method"
   ]
  },
  {
   "attachments": {},
   "cell_type": "markdown",
   "metadata": {},
   "source": [
    "**Kinetic Energy**"
   ]
  },
  {
   "cell_type": "code",
   "execution_count": 84,
   "metadata": {},
   "outputs": [],
   "source": [
    "# Creating the kinetic energy matrix\n",
    "\n",
    "T = np.zeros((N-2)**2).reshape(N-2,N-2)\n",
    "\n",
    "for i,row in enumerate(T):\n",
    "    for j,col in enumerate(row):\n",
    "        if i==j:\n",
    "            T[i,j] = -2\n",
    "        elif abs(i-j) == 1:\n",
    "            T[i,j] = 1\n",
    "        else:\n",
    "            T[i,j] = 0\n",
    "\n",
    "T = -T*(hbar**2/(2*dx**2))"
   ]
  },
  {
   "attachments": {},
   "cell_type": "markdown",
   "metadata": {},
   "source": [
    "**Potential Energy**"
   ]
  },
  {
   "cell_type": "code",
   "execution_count": 85,
   "metadata": {},
   "outputs": [],
   "source": [
    "# Creating the potential energy matrix\n",
    "\n",
    "V = np.zeros((N-2)**2).reshape(N-2,N-2)\n",
    "\n",
    "for i,row in enumerate(V):\n",
    "    for j,col in enumerate(row):\n",
    "        if i==j:\n",
    "            V[i,j] = potential(xs[i+1])\n",
    "        else:\n",
    "            V[i,j] = 0"
   ]
  },
  {
   "attachments": {},
   "cell_type": "markdown",
   "metadata": {},
   "source": [
    "**Hamiltonian**"
   ]
  },
  {
   "cell_type": "code",
   "execution_count": 86,
   "metadata": {},
   "outputs": [],
   "source": [
    "H = T + V"
   ]
  },
  {
   "attachments": {},
   "cell_type": "markdown",
   "metadata": {},
   "source": [
    "**Eigenvalue Equation**"
   ]
  },
  {
   "cell_type": "code",
   "execution_count": 87,
   "metadata": {},
   "outputs": [],
   "source": [
    "val,vec = np.linalg.eig(H) # Solving the eigenvalue equation\n",
    "vec = vec[:,val != 0]      # Dropping the null eigenvectors\n",
    "val = val[val != 0]        # Dropping the null eigenvalues\n",
    "z = np.argsort(val)        # Sorting the eigenvalues\n",
    "z = z[:4]\n",
    "\n",
    "# Adding a zero at the beggining and end to each eigenvector corresponding to the boundry values\n",
    "vec = np.insert(vec,0,0,axis=0)\n",
    "vec = np.insert(vec,vec.shape[0],0,axis=0)"
   ]
  },
  {
   "cell_type": "code",
   "execution_count": 88,
   "metadata": {},
   "outputs": [
    {
     "name": "stdout",
     "output_type": "stream",
     "text": [
      "[ 1.  4.  9. 16.]\n"
     ]
    }
   ],
   "source": [
    "energies = np.round(val[z]/val[z][0])\n",
    "print(energies)\n"
   ]
  },
  {
   "cell_type": "code",
   "execution_count": 89,
   "metadata": {},
   "outputs": [],
   "source": [
    "# Normalizing\n",
    "for i in range(len(z)):\n",
    "    v = vec[:,z[i]]\n",
    "    v = v/np.sqrt(np.sum(v*v))\n",
    "    vec[:,z[i]] = v"
   ]
  },
  {
   "attachments": {},
   "cell_type": "markdown",
   "metadata": {},
   "source": [
    "### Plot"
   ]
  },
  {
   "cell_type": "code",
   "execution_count": 90,
   "metadata": {},
   "outputs": [
    {
     "data": {
      "image/png": "[encoded data removed]",
      "text/plain": [
       "<Figure size 640x480 with 4 Axes>"
      ]
     },
     "metadata": {},
     "output_type": "display_data"
    }
   ],
   "source": [
    "fig, ax = plt.subplots(nrows=2, ncols=2,)\n",
    "colors = ['b','g','r','c']\n",
    "\n",
    "for i,row in enumerate(ax):\n",
    "    for j,col in enumerate(row):\n",
    "        n = 2*i +j\n",
    "        col.plot(xs,vec[:,z[n]], lw=1, color=colors[n], label=\"{} \".format(i))\n",
    "        col.grid(lw=0.5)\n",
    "        col.set_title('$E_{}$'.format(n+1))\n",
    "        col.set_xlabel('$x$')\n",
    "        col.set_ylabel('$\\Psi$')\n",
    "        # col.set_xlim([-11, 11])\n",
    "        # col.set_ylim([-0.1, 0.1])\n",
    "\n",
    "plt.subplots_adjust(left=0.1, bottom=0.1, right=0.9,top=0.9, wspace=0.6, hspace=0.6)"
   ]
  },
  {
   "attachments": {},
   "cell_type": "markdown",
   "metadata": {},
   "source": [
    "### Exporting Results"
   ]
  },
  {
   "cell_type": "code",
   "execution_count": 91,
   "metadata": {},
   "outputs": [],
   "source": [
    "ti_wf = {'xs' : xs,\n",
    "                    0:vec[:,z[0]],\n",
    "                    1:vec[:,z[1]],\n",
    "                    2:vec[:,z[2]],\n",
    "                    3:vec[:,z[n]]}\n",
    "\n",
    "np.save(\"ti_wf.npy\",ti_wf,allow_pickle=True)"
   ]
  }
 ],
 "metadata": {
  "kernelspec": {
   "display_name": "Python 3",
   "language": "python",
   "name": "python3"
  },
  "language_info": {
   "codemirror_mode": {
    "name": "ipython",
    "version": 3
   },
   "file_extension": ".py",
   "mimetype": "text/x-python",
   "name": "python",
   "nbconvert_exporter": "python",
   "pygments_lexer": "ipython3",
   "version": "3.10.6"
  },
  "orig_nbformat": 4
 },
 "nbformat": 4,
 "nbformat_minor": 2
}
