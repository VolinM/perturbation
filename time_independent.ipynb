{
 "cells": [
  {
   "attachments": {},
   "cell_type": "markdown",
   "metadata": {},
   "source": [
    "# Time Independent Schrödinger Equation"
   ]
  },
  {
   "attachments": {},
   "cell_type": "markdown",
   "metadata": {},
   "source": [
    "## Development"
   ]
  },
  {
   "attachments": {},
   "cell_type": "markdown",
   "metadata": {},
   "source": [
    "### The Time-Independent Schrödinger Equation"
   ]
  },
  {
   "attachments": {},
   "cell_type": "markdown",
   "metadata": {},
   "source": [
    "In position-space, Schrödinger's Equation reads:\n",
    "\n",
    "$\\textstyle i\\hbar \\frac{\\partial\\Psi}{\\partial t} = \\frac{-\\hbar^2}{2m}\\frac{\\partial^2\\Psi}{\\partial x^2}+V\\cdot\\Psi$\n",
    "\n",
    "If the potential is independent of time, it is possible to solve the equation by separation of variables. For this, we propose a solution of the form:\n",
    "\n",
    "$\\textstyle \\Psi(x,t)=\\phi(x)\\cdot\\chi(t)$\n",
    "\n",
    "so that the equation becomes:\n",
    "\n",
    "$\\textstyle i\\hbar\\cdot\\phi(x)\\frac{\\partial\\chi(t)}{\\partial t} = \\frac{-\\hbar^2}{2m}\\chi(t)\\frac{\\partial^2\\phi(x)}{\\partial x^2}+V(x)\\cdot\\phi(x)\\chi(t)$\n",
    "\n",
    "Dividing through by $\\Psi$\n",
    "\n",
    "$\\textstyle \\frac{i\\hbar}{\\chi(t)} \\frac{\\partial\\chi(t)}{\\partial t} = \\frac{-\\hbar^2}{2m}\\frac{1}{\\phi(x)}\\frac{\\partial^2\\phi(x)}{\\partial x^2}+V(x)$\n",
    "\n",
    "Since both sides of this equation depend only on one variable, they must both equual a constant. Denoting said constant by $E$ we get:\n",
    "\n",
    "$\\textstyle {i\\hbar} \\frac{\\partial\\chi(t)}{\\partial t} = E\\cdot{\\chi(t)}$\n",
    "\n",
    "$\\textstyle \\frac{-\\hbar^2}{2m}\\frac{\\partial^2\\phi(x)}{\\partial x^2}+V(x)\\cdot\\phi(x) = E\\cdot\\phi(x)$\n",
    "\n",
    "The second of these is the time-independent Schrödinger Equation, which can alternatively be written in *bracket* notation as\n",
    "\n",
    "$\\displaystyle \\hat{H}\\left|\\phi\\right> = E\\left|\\phi\\right>$\n",
    "\n",
    "**We are going to solve this equation for a particle bounded to a finite region in space.**\n",
    "\n",
    "___"
   ]
  },
  {
   "attachments": {},
   "cell_type": "markdown",
   "metadata": {},
   "source": [
    "### Finite Difference Method\n",
    "\n"
   ]
  },
  {
   "attachments": {},
   "cell_type": "markdown",
   "metadata": {},
   "source": [
    "## Code"
   ]
  },
  {
   "attachments": {},
   "cell_type": "markdown",
   "metadata": {},
   "source": [
    "### Setup"
   ]
  },
  {
   "attachments": {},
   "cell_type": "markdown",
   "metadata": {},
   "source": [
    "**Importing Libraries**"
   ]
  },
  {
   "cell_type": "code",
   "execution_count": 49,
   "metadata": {},
   "outputs": [],
   "source": [
    "import matplotlib.pyplot as plt\n",
    "import numpy as np\n",
    "import pandas as pd"
   ]
  },
  {
   "attachments": {},
   "cell_type": "markdown",
   "metadata": {},
   "source": [
    "**Physical Constants**"
   ]
  },
  {
   "cell_type": "code",
   "execution_count": 50,
   "metadata": {},
   "outputs": [],
   "source": [
    "hbar = 1\n",
    "m = 1"
   ]
  },
  {
   "attachments": {},
   "cell_type": "markdown",
   "metadata": {},
   "source": [
    "**Problem Parameters**"
   ]
  },
  {
   "cell_type": "code",
   "execution_count": 51,
   "metadata": {
    "tags": []
   },
   "outputs": [],
   "source": [
    "a = -10\n",
    "b = 10\n",
    "N = 101\n",
    "\n",
    "xs = np.linspace(a,b,N)\n",
    "dx = xs[1]-xs[0]"
   ]
  },
  {
   "attachments": {},
   "cell_type": "markdown",
   "metadata": {},
   "source": [
    "**Potential**"
   ]
  },
  {
   "cell_type": "code",
   "execution_count": 52,
   "metadata": {
    "tags": [
     "Potential"
    ]
   },
   "outputs": [],
   "source": [
    "def potential(x):\n",
    "    if (a+1*dx) < x < (b-1*dx):\n",
    "        return 0\n",
    "    else:\n",
    "        return 1e20"
   ]
  },
  {
   "attachments": {},
   "cell_type": "markdown",
   "metadata": {},
   "source": [
    "### Finite Difference Method"
   ]
  },
  {
   "attachments": {},
   "cell_type": "markdown",
   "metadata": {},
   "source": [
    "**Kinetic Energy**"
   ]
  },
  {
   "cell_type": "code",
   "execution_count": 53,
   "metadata": {},
   "outputs": [],
   "source": [
    "T = np.zeros(N**2).reshape(N,N)\n",
    "\n",
    "for i,row in enumerate(T):\n",
    "    for j,col in enumerate(row):\n",
    "        if any(z in [0,N-1] for z in [i,j]):\n",
    "            T[i,j] = 0\n",
    "        elif i==j:\n",
    "            T[i,j] = -2\n",
    "        elif abs(i-j) == 1:\n",
    "            T[i,j] = 1\n",
    "        else:\n",
    "            T[i,j] = 0\n",
    "\n",
    "T = -T*(hbar**2/(2*dx**2))"
   ]
  },
  {
   "attachments": {},
   "cell_type": "markdown",
   "metadata": {},
   "source": [
    "**Potential Energy**"
   ]
  },
  {
   "cell_type": "code",
   "execution_count": 54,
   "metadata": {},
   "outputs": [],
   "source": [
    "V = np.zeros(N**2).reshape(N,N)\n",
    "\n",
    "for i,row in enumerate(V):\n",
    "    for j,col in enumerate(row):\n",
    "        if i==j:\n",
    "            V[i,j] = potential(xs[i])\n",
    "        else:\n",
    "            V[i,j] = 0"
   ]
  },
  {
   "attachments": {},
   "cell_type": "markdown",
   "metadata": {},
   "source": [
    "**Hamiltonian**"
   ]
  },
  {
   "cell_type": "code",
   "execution_count": 55,
   "metadata": {},
   "outputs": [],
   "source": [
    "H = T + V"
   ]
  },
  {
   "attachments": {},
   "cell_type": "markdown",
   "metadata": {},
   "source": [
    "**Eigenvalue Equation**"
   ]
  },
  {
   "cell_type": "code",
   "execution_count": 56,
   "metadata": {},
   "outputs": [],
   "source": [
    "val,vec = np.linalg.eig(H)\n",
    "vec = vec[:,val != 0]\n",
    "val = val[val != 0]\n",
    "z = np.argsort(val)\n",
    "z = z[:4]"
   ]
  },
  {
   "cell_type": "code",
   "execution_count": 57,
   "metadata": {},
   "outputs": [
    {
     "name": "stdout",
     "output_type": "stream",
     "text": [
      "[ 1.  4.  9. 16.]\n"
     ]
    }
   ],
   "source": [
    "energies = np.round(val[z]/val[z][0])\n",
    "print(energies)\n"
   ]
  },
  {
   "cell_type": "code",
   "execution_count": 58,
   "metadata": {},
   "outputs": [],
   "source": [
    "for i in range(len(z)):\n",
    "    v = vec[:,z[i]]\n",
    "    v = v/np.sqrt(np.sum(v*v))\n",
    "    vec[:,z[i]] = v"
   ]
  },
  {
   "attachments": {},
   "cell_type": "markdown",
   "metadata": {},
   "source": [
    "### Plot"
   ]
  },
  {
   "cell_type": "code",
   "execution_count": 59,
   "metadata": {},
   "outputs": [
    {
     "data": {
      "image/png": "[encoded data removed]",
      "text/plain": [
       "<Figure size 640x480 with 4 Axes>"
      ]
     },
     "metadata": {},
     "output_type": "display_data"
    }
   ],
   "source": [
    "fig, ax = plt.subplots(nrows=2, ncols=2,)\n",
    "colors = ['b','g','r','c']\n",
    "\n",
    "for i,row in enumerate(ax):\n",
    "    for j,col in enumerate(row):\n",
    "        n = 2*i +j\n",
    "        col.plot(xs,vec[:,z[n]], lw=1, color=colors[n], label=\"{} \".format(i))\n",
    "        col.grid(lw=0.5)\n",
    "        col.set_title('$E_{}$'.format(n+1))\n",
    "        col.set_xlabel('$x$')\n",
    "        col.set_ylabel('$\\Psi$')\n",
    "        # col.set_xlim([-11, 11])\n",
    "        # col.set_ylim([-0.1, 0.1])\n",
    "\n",
    "plt.subplots_adjust(left=0.1, bottom=0.1, right=0.9,top=0.9, wspace=0.6, hspace=0.6)"
   ]
  },
  {
   "attachments": {},
   "cell_type": "markdown",
   "metadata": {},
   "source": [
    "### Exporting Results"
   ]
  },
  {
   "cell_type": "code",
   "execution_count": 60,
   "metadata": {},
   "outputs": [],
   "source": [
    "ti_wf = {'xs' : xs,\n",
    "                    0:vec[:,z[0]],\n",
    "                    1:vec[:,z[1]],\n",
    "                    2:vec[:,z[2]],\n",
    "                    3:vec[:,z[n]]}\n",
    "\n",
    "np.save(\"ti_wf.npy\",ti_wf,allow_pickle=True)"
   ]
  }
 ],
 "metadata": {
  "kernelspec": {
   "display_name": "Python 3",
   "language": "python",
   "name": "python3"
  },
  "language_info": {
   "codemirror_mode": {
    "name": "ipython",
    "version": 3
   },
   "file_extension": ".py",
   "mimetype": "text/x-python",
   "name": "python",
   "nbconvert_exporter": "python",
   "pygments_lexer": "ipython3",
   "version": "3.10.6"
  },
  "orig_nbformat": 4
 },
 "nbformat": 4,
 "nbformat_minor": 2
}
