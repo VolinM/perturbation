{
 "cells": [
  {
   "attachments": {},
   "cell_type": "markdown",
   "metadata": {},
   "source": [
    "# Time Dependent Schrödinger's Equation"
   ]
  },
  {
   "attachments": {},
   "cell_type": "markdown",
   "metadata": {},
   "source": [
    "## Development"
   ]
  },
  {
   "attachments": {},
   "cell_type": "markdown",
   "metadata": {},
   "source": [
    "### Schrödinger's Equation"
   ]
  },
  {
   "attachments": {},
   "cell_type": "markdown",
   "metadata": {},
   "source": [
    "Shrödinger's Equation reads:\n",
    "\n",
    "$i\\hbar\\,\\frac{\\partial\\psi}{\\partial t}=\\frac{-\\hbar^2}{2m}\\,\\frac{\\partial^2\\psi}{\\partial x^2}+V\\cdot\\psi$\n",
    "\n",
    "The goal of this program is to numerically solve this equation.\n",
    "\n",
    "___"
   ]
  },
  {
   "attachments": {},
   "cell_type": "markdown",
   "metadata": {},
   "source": [
    "### Finite Difference Method"
   ]
  },
  {
   "attachments": {},
   "cell_type": "markdown",
   "metadata": {},
   "source": [
    "Given a function $f(x)$ we can expand $f(x+\\Delta x)$ through a Taylor Series expantion about x:\n",
    "\n",
    "$\\textstyle f(x+\\Delta x) = f(x) + \\Delta x\\cdot f'(x) + \\mathcal{O}(\\Delta x^2)$\n",
    "\n",
    "so we can define the **first forward finite difference** as:\n",
    "\n",
    "$f'_+\\approx \\frac{f(x + \\Delta x)-f(x)}{\\Delta x}$\n",
    "\n",
    "similarly, by expanding $f(x-\\Delta x)$, we define de **first backwards finite difference**:\n",
    "\n",
    "$f'_-\\approx \\frac{f(x)-f(x - \\Delta x)}{\\Delta x}$\n",
    "\n",
    "from this we can approximate the second derivative $f''(x)$ by:\n",
    "\n",
    "$f''(x) \\approx \\frac{f'_+(x)-f'_-(x)}{\\Delta x} = \\frac{\\frac{f(x + \\Delta x)-f(x)}{\\Delta x}-\\frac{f(x)-f(x - \\Delta x)}{\\Delta x}}{\\Delta x} = \\frac{f(x+\\Delta x)-2\\cdot f(x) + f(x-\\Delta x)}{\\Delta x^2}$\n",
    "\n",
    "___"
   ]
  },
  {
   "attachments": {},
   "cell_type": "markdown",
   "metadata": {},
   "source": [
    "### Numerical Solution to Schrödinger's Equation"
   ]
  },
  {
   "attachments": {},
   "cell_type": "markdown",
   "metadata": {},
   "source": [
    "If the particle is contained within a finite region of lenght $L$, we can subdivide the region on $N_x$ subitnervals of lenght $\\Delta x = \\frac{L}{N}$, such that we define the points:\n",
    "\n",
    "$0,\\,\\Delta x,\\,2\\cdot\\Delta x,\\,3\\cdot\\Delta x,\\,\\dots,\\,(N_x-1)\\cdot\\Delta x,\\,L$\n",
    "\n",
    "or\n",
    "\n",
    "$\\displaystyle x_0,\\,x_1,\\,x_2,\\,\\dots,\\,x_{N_x-1},\\,x_{N_x}$\n",
    "\n",
    "Similarlly, if we are interested in the evolution of the particle in the time interval from $t_0$ to $t_f$, by dividing the interval in $N_t$ steps, we get a step size of $\\Delta t = \\frac{t_f-t_0}{N_t}$. Thus, we would have the set of time points:\n",
    "\n",
    "$t_0,\\,t_0+\\Delta t,\\,t_0+2\\Delta t,\\,t_0+3\\Delta t,\\dots,\\,t_0+(N_t-1)\\Delta t,\\,t_f$\n",
    "\n",
    "or\n",
    "\n",
    "$\\displaystyle t_0,\\,t_1,\\,t_2,\\,\\dots,\\,t_{N_t-1},\\,t_{N_t}$\n",
    "\n",
    "TBy employing finite differences, and defining $\\psi_{i,j} := \\psi(x_i,t_j)$, Schrödinger's Equation can be written as:\n",
    "\n",
    "$\\displaystyle i\\hbar \\left(\\frac{\\psi_{i,j+1}-\\psi_{i,j}}{\\Delta t}\\right) = \\frac{-\\hbar^2}{2m}\\left(\\frac{\\psi_{i+1,j}-2\\cdot\\psi_{i,j}+\\psi_{i-1,j}}{\\Delta x^2}\\right) + V_{i,j}\\cdot\\psi_{i,j}$\n",
    "\n",
    "so that we can write the following requrance relation:\n",
    "\n",
    "$\\displaystyle \\psi_{i,j+1} = \\frac{\\Delta t}{i\\hbar}\\left[\\frac{-\\hbar^2}{2m}\\left(\\frac{\\psi_{i+1,j}-2\\cdot\\psi_{i,j}+\\psi_{i-1,j}}{\\Delta x^2}\\right) + V_{i,j}\\cdot\\psi_{i,j}\\right]+\\psi_{i,j}$\n",
    "\n",
    "Thus, given a defined initial state $\\psi_{i,0}$ with $(0\\leq i \\leq N_x)$, we can employ the recurrance relation to calculate the state at an arbitrary subsequent time. The initial state we will employ is the result of the time-independent code.\n",
    "\n",
    "___\n",
    "___\n"
   ]
  },
  {
   "attachments": {},
   "cell_type": "markdown",
   "metadata": {},
   "source": [
    "## Code"
   ]
  },
  {
   "attachments": {},
   "cell_type": "markdown",
   "metadata": {},
   "source": [
    "### Setup"
   ]
  },
  {
   "attachments": {},
   "cell_type": "markdown",
   "metadata": {},
   "source": [
    "**Importing Libraries**"
   ]
  },
  {
   "cell_type": "code",
   "execution_count": 10,
   "metadata": {},
   "outputs": [],
   "source": [
    "import matplotlib.animation as animation\n",
    "import matplotlib.pyplot as plt\n",
    "import numpy as np\n",
    "import pandas as pd\n",
    "import scipy.integrate as integrate"
   ]
  },
  {
   "attachments": {},
   "cell_type": "markdown",
   "metadata": {},
   "source": [
    "**Physical Constants**"
   ]
  },
  {
   "cell_type": "code",
   "execution_count": 11,
   "metadata": {},
   "outputs": [],
   "source": [
    "hbar = 1  # reduced plank's constant\n",
    "m = 1     # particle's mass"
   ]
  },
  {
   "attachments": {},
   "cell_type": "markdown",
   "metadata": {},
   "source": [
    "**Problem Parameters**"
   ]
  },
  {
   "cell_type": "code",
   "execution_count": 12,
   "metadata": {},
   "outputs": [],
   "source": [
    "final_t = 300\n",
    "steps = 500001"
   ]
  },
  {
   "cell_type": "code",
   "execution_count": 13,
   "metadata": {},
   "outputs": [],
   "source": [
    "phis = np.load(\"ti_wf.npy\",allow_pickle=True)                   # importing the results of the time-independent program\n",
    "xs = phis.item().get(\"xs\")                                      # defining the spacial evaluation points\n",
    "ts = np.linspace(0, final_t, steps,dtype=np.float64)            # defining the time evaluation points\n",
    "\n",
    "a = xs[0]                                                       # lower space bound\n",
    "b = xs[-1]                                                      # upper space bound\n",
    "\n",
    "Nx = xs.shape[0]                                                # number of space intervals\n",
    "Nt = ts.shape[0]                                                # number of time intervals\n",
    "\n",
    "dx = xs[1]-xs[0]                                                # spacial step size\n",
    "dt = ts[1]-ts[0]                                                # time step size"
   ]
  },
  {
   "attachments": {},
   "cell_type": "markdown",
   "metadata": {},
   "source": [
    "**Potential**"
   ]
  },
  {
   "cell_type": "code",
   "execution_count": 14,
   "metadata": {},
   "outputs": [
    {
     "data": {
      "text/plain": [
       "(1.383896526736737589e-87+0j)"
      ]
     },
     "execution_count": 14,
     "metadata": {},
     "output_type": "execute_result"
    }
   ],
   "source": [
    "# Definition of the potential function\n",
    "\n",
    "def potential(x,t):\n",
    "    k = 1/10\n",
    "    P = 0\n",
    "    # if (a) < x < (b):\n",
    "    #     P += 0\n",
    "    # else:\n",
    "    #     P += 1e20\n",
    "    P += np.exp(-(x/k)**2)*np.exp(-((t-1)/k)**2, dtype=np.complex256)\n",
    "    return P\n",
    "\n",
    "potential(1,0)"
   ]
  },
  {
   "attachments": {},
   "cell_type": "markdown",
   "metadata": {},
   "source": [
    "### Finite Difference Method"
   ]
  },
  {
   "attachments": {},
   "cell_type": "markdown",
   "metadata": {},
   "source": [
    "**Potential Energy**"
   ]
  },
  {
   "cell_type": "code",
   "execution_count": 15,
   "metadata": {},
   "outputs": [],
   "source": [
    "V = np.zeros_like(np.outer(xs,ts), dtype=np.complex256)\n",
    "\n",
    "for i,row in enumerate(V):\n",
    "    for j,col in enumerate(row):\n",
    "        V[i,j] = potential(xs[i],ts[j])"
   ]
  },
  {
   "attachments": {},
   "cell_type": "markdown",
   "metadata": {},
   "source": [
    "**Algorithm**"
   ]
  },
  {
   "cell_type": "code",
   "execution_count": 16,
   "metadata": {},
   "outputs": [],
   "source": [
    "wf = pd.DataFrame(index=ts,columns=xs)\n",
    "phi1 =(phis.item().get(3)).astype(np.complex256)\n",
    "\n",
    "for j in range(Nt):\n",
    "    if j == 0:\n",
    "        wf.iloc[0] = (phi1*np.conj(phi1)).real\n",
    "    else:\n",
    "        phi2 = np.zeros_like(phi1,dtype=np.complex256)\n",
    "        for i,val in enumerate(phi2):\n",
    "            if (i==0) or (i >= (Nx-1)):\n",
    "                phi2[i] = 0\n",
    "            else:\n",
    "                phi2[i] = dt/(1j*hbar)*(-hbar**2/(2*m*dx**2)*(phi1[i+1]-2*phi1[i]+phi1[i-1])+V[i,j]*phi1[i]) + phi1[i]\n",
    "        norm = integrate.simpson((phi2*np.conj(phi2)).real,xs)\n",
    "        phi2 = phi2/np.sqrt(norm)\n",
    "        wf.iloc[j] = np.round((phi2*np.conj(phi2)).real,20)\n",
    "        phi1 = phi2\n"
   ]
  },
  {
   "attachments": {},
   "cell_type": "markdown",
   "metadata": {},
   "source": [
    "### Animation"
   ]
  },
  {
   "attachments": {},
   "cell_type": "markdown",
   "metadata": {},
   "source": [
    "**Animation Function**"
   ]
  },
  {
   "cell_type": "code",
   "execution_count": 17,
   "metadata": {},
   "outputs": [],
   "source": [
    "fr = 10000\n",
    "\n",
    "def aniFunc(i):\n",
    "    plt.clf()\n",
    "    a = wf.iloc[int(i*Nt/fr)].to_numpy()\n",
    "    plt.plot(xs,a)\n",
    "    plt.plot(xs,V[:,int(i*Nt/fr)].real)\n",
    "    plt.xlabel(r'$x$')\n",
    "    plt.suptitle(r'$E_4$')\n",
    "    plt.title(r't = {0:.3f}'.format(np.round(ts[int(i*Nt/fr)],3)))\n",
    "    plt.legend(['$|\\Psi|^2$','V'])\n",
    "    plt.grid()\n",
    "    plt.xlim([-11,11])\n",
    "    plt.ylim([-0.01,0.15])"
   ]
  },
  {
   "attachments": {},
   "cell_type": "markdown",
   "metadata": {},
   "source": [
    "**Generate Animation**"
   ]
  },
  {
   "cell_type": "code",
   "execution_count": 18,
   "metadata": {},
   "outputs": [
    {
     "data": {
      "image/png": "[encoded data removed]",
      "text/plain": [
       "<Figure size 640x480 with 1 Axes>"
      ]
     },
     "metadata": {},
     "output_type": "display_data"
    }
   ],
   "source": [
    "plt.rcParams['animation.embed_limit'] = 2**128\n",
    "figure, ax1 = plt.subplots()\n",
    "anim = animation.FuncAnimation(figure, func=aniFunc,frames=fr,interval=1)\n",
    "\n",
    "# from IPython.display import HTML\n",
    "# HTML(anim.to_jshtml())\n",
    "writervideo = animation.FFMpegWriter(fps=160)\n",
    "anim.save('E4.mp4', writer=writervideo)"
   ]
  }
 ],
 "metadata": {
  "kernelspec": {
   "display_name": "Python 3",
   "language": "python",
   "name": "python3"
  },
  "language_info": {
   "codemirror_mode": {
    "name": "ipython",
    "version": 3
   },
   "file_extension": ".py",
   "mimetype": "text/x-python",
   "name": "python",
   "nbconvert_exporter": "python",
   "pygments_lexer": "ipython3",
   "version": "3.10.6"
  },
  "orig_nbformat": 4
 },
 "nbformat": 4,
 "nbformat_minor": 2
}
