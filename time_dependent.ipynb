{
 "cells": [
  {
   "attachments": {},
   "cell_type": "markdown",
   "metadata": {},
   "source": [
    "# Time Dependent Schrödinger's Equation"
   ]
  },
  {
   "attachments": {},
   "cell_type": "markdown",
   "metadata": {},
   "source": [
    "## Development"
   ]
  },
  {
   "attachments": {},
   "cell_type": "markdown",
   "metadata": {},
   "source": [
    "### Schrödinger's Equation"
   ]
  },
  {
   "attachments": {},
   "cell_type": "markdown",
   "metadata": {},
   "source": [
    "Shrödinger's Equation reads:\n",
    "\n",
    "$i\\hbar\\,\\frac{\\partial\\psi}{\\partial t}=\\frac{-\\hbar^2}{2m}\\,\\frac{\\partial^2\\psi}{\\partial x^2}+V\\cdot\\psi$\n",
    "\n",
    "The goal of this program is to numerically solve this equation.\n",
    "\n",
    "___"
   ]
  },
  {
   "attachments": {},
   "cell_type": "markdown",
   "metadata": {},
   "source": [
    "### Finite Difference Method"
   ]
  },
  {
   "attachments": {},
   "cell_type": "markdown",
   "metadata": {},
   "source": [
    "Given a function $f(x)$ we can expand $f(x+\\Delta x)$ through a Taylor Series expantion about x:\n",
    "\n",
    "$\\textstyle f(x+\\Delta x) = f(x) + \\Delta x\\cdot f'(x) + \\mathcal{O}(\\Delta x^2)$\n",
    "\n",
    "so we can define the **first forward finite difference** as:\n",
    "\n",
    "$f'_+\\approx \\frac{f(x + \\Delta x)-f(x)}{\\Delta x}$\n",
    "\n",
    "similarly, by expanding $f(x-\\Delta x)$, we define de **first backwards finite difference**:\n",
    "\n",
    "$f'_-\\approx \\frac{f(x)-f(x - \\Delta x)}{\\Delta x}$\n",
    "\n",
    "from this we can approximate the second derivative $f''(x)$ by:\n",
    "\n",
    "$f''(x) \\approx \\frac{f'_+(x)-f'_-(x)}{\\Delta x} = \\frac{\\frac{f(x + \\Delta x)-f(x)}{\\Delta x}-\\frac{f(x)-f(x - \\Delta x)}{\\Delta x}}{\\Delta x} = \\frac{f(x+\\Delta x)-2\\cdot f(x) + f(x-\\Delta x)}{\\Delta x^2}$\n",
    "\n",
    "___"
   ]
  },
  {
   "attachments": {},
   "cell_type": "markdown",
   "metadata": {},
   "source": [
    "### Numerical Solution to Schrödinger's Equation"
   ]
  },
  {
   "attachments": {},
   "cell_type": "markdown",
   "metadata": {},
   "source": [
    "If the particle is contained within a finite region of lenght $L$, we can subdivide the region on $N_x$ subitnervals of lenght $\\Delta x = \\frac{L}{N}$, such that we define the points:\n",
    "\n",
    "$0,\\,\\Delta x,\\,2\\cdot\\Delta x,\\,3\\cdot\\Delta x,\\,\\dots,\\,(N_x-1)\\cdot\\Delta x,\\,L$\n",
    "\n",
    "or\n",
    "\n",
    "$\\displaystyle x_0,\\,x_1,\\,x_2,\\,\\dots,\\,x_{N_x-1},\\,x_{N_x}$\n",
    "\n",
    "Similarlly, if we are interested in the evolution of the particle in the time interval from $t_0$ to $t_f$, by dividing the interval in $N_t$ steps, we get a step size of $\\Delta t = \\frac{t_f-t_0}{N_t}$. Thus, we would have the set of time points:\n",
    "\n",
    "$t_0,\\,t_0+\\Delta t,\\,t_0+2\\Delta t,\\,t_0+3\\Delta t,\\dots,\\,t_0+(N_t-1)\\Delta t,\\,t_f$\n",
    "\n",
    "or\n",
    "\n",
    "$\\displaystyle t_0,\\,t_1,\\,t_2,\\,\\dots,\\,t_{N_t-1},\\,t_{N_t}$\n",
    "\n",
    "TBy employing finite differences, and defining $\\psi_{i,j} := \\psi(x_i,t_j)$, Schrödinger's Equation can be written as:\n",
    "\n",
    "$\\displaystyle i\\hbar \\left(\\frac{\\psi_{i,j+1}-\\psi_{i,j}}{\\Delta t}\\right) = \\frac{-\\hbar^2}{2m}\\left(\\frac{\\psi_{i+1,j}-2\\cdot\\psi_{i,j}+\\psi_{i-1,j}}{\\Delta x^2}\\right) + V_{i,j}\\cdot\\psi_{i,j}$\n",
    "\n",
    "so that we can write the following requrance relation:\n",
    "\n",
    "$\\displaystyle \\psi_{i,j+1} = \\frac{\\Delta t}{i\\hbar}\\left[\\frac{-\\hbar^2}{2m}\\left(\\frac{\\psi_{i+1,j}-2\\cdot\\psi_{i,j}+\\psi_{i-1,j}}{\\Delta x^2}\\right) + V_{i,j}\\cdot\\psi_{i,j}\\right]+\\psi_{i,j}$\n",
    "\n",
    "Thus, given a defined initial state $\\psi_{i,0}$ with $(0\\leq i \\leq N_x)$, we can employ the recurrance relation to calculate the state at an arbitrary subsequent time. The initial state we will employ is the result of the time-independent code.\n",
    "\n",
    "___\n",
    "___\n"
   ]
  },
  {
   "attachments": {},
   "cell_type": "markdown",
   "metadata": {},
   "source": [
    "## Code"
   ]
  },
  {
   "attachments": {},
   "cell_type": "markdown",
   "metadata": {},
   "source": [
    "### Setup"
   ]
  },
  {
   "attachments": {},
   "cell_type": "markdown",
   "metadata": {},
   "source": [
    "**Importing Libraries**"
   ]
  },
  {
   "cell_type": "code",
   "execution_count": 80,
   "metadata": {},
   "outputs": [],
   "source": [
    "import matplotlib.animation as animation\n",
    "import matplotlib.pyplot as plt\n",
    "import numpy as np\n",
    "import pandas as pd\n",
    "import scipy.integrate as integrate"
   ]
  },
  {
   "attachments": {},
   "cell_type": "markdown",
   "metadata": {},
   "source": [
    "**Physical Constants**"
   ]
  },
  {
   "cell_type": "code",
   "execution_count": 81,
   "metadata": {},
   "outputs": [],
   "source": [
    "hbar = 1  # reduced plank's constant\n",
    "m = 1     # particle's mass"
   ]
  },
  {
   "attachments": {},
   "cell_type": "markdown",
   "metadata": {},
   "source": [
    "**Problem Parameters**"
   ]
  },
  {
   "cell_type": "code",
   "execution_count": 82,
   "metadata": {},
   "outputs": [],
   "source": [
    "final_t = 300\n",
    "steps = 500001#500001"
   ]
  },
  {
   "cell_type": "code",
   "execution_count": 83,
   "metadata": {},
   "outputs": [],
   "source": [
    "phis = np.load(\"ti_wf.npy\",allow_pickle=True)                   # importing the results of the time-independent program\n",
    "xs = phis.item().get(\"xs\")                                      # defining the spacial evaluation points\n",
    "ts = np.linspace(0, final_t, steps,dtype=np.float64)            # defining the time evaluation points\n",
    "\n",
    "a = xs[0]                                                       # lower space bound\n",
    "b = xs[-1]                                                      # upper space bound\n",
    "\n",
    "Nx = xs.shape[0]                                                # number of space intervals\n",
    "Nt = ts.shape[0]                                                # number of time intervals\n",
    "\n",
    "dx = xs[1]-xs[0]                                                # spacial step size\n",
    "dt = ts[1]-ts[0]                                                # time step size"
   ]
  },
  {
   "attachments": {},
   "cell_type": "markdown",
   "metadata": {},
   "source": [
    "**Potential**"
   ]
  },
  {
   "cell_type": "code",
   "execution_count": 84,
   "metadata": {},
   "outputs": [
    {
     "data": {
      "text/plain": [
       "0"
      ]
     },
     "execution_count": 84,
     "metadata": {},
     "output_type": "execute_result"
    }
   ],
   "source": [
    "# Definition of the potential function\n",
    "\n",
    "def potential(x,t):\n",
    "    k = 1/10\n",
    "    P = 0\n",
    "    # if (a) < x < (b):\n",
    "    #     P += 0\n",
    "    # else:\n",
    "    #     P += 1e20\n",
    "    P += np.exp(-(x/k)**2)*np.exp(-((t-1)/k)**2, dtype=np.complex256)\n",
    "    return 0\n",
    "\n",
    "potential(1,0)"
   ]
  },
  {
   "attachments": {},
   "cell_type": "markdown",
   "metadata": {},
   "source": [
    "### Finite Difference Method"
   ]
  },
  {
   "attachments": {},
   "cell_type": "markdown",
   "metadata": {},
   "source": [
    "**Potential Energy**"
   ]
  },
  {
   "cell_type": "code",
   "execution_count": 85,
   "metadata": {},
   "outputs": [],
   "source": [
    "V = np.zeros_like(np.outer(xs,ts), dtype=np.complex256)\n",
    "\n",
    "for i,row in enumerate(V):\n",
    "    for j,col in enumerate(row):\n",
    "        V[i,j] = potential(xs[i],ts[j])"
   ]
  },
  {
   "attachments": {},
   "cell_type": "markdown",
   "metadata": {},
   "source": [
    "**Algorithm**"
   ]
  },
  {
   "cell_type": "code",
   "execution_count": 86,
   "metadata": {},
   "outputs": [
    {
     "ename": "",
     "evalue": "",
     "output_type": "error",
     "traceback": [
      "\u001b[1;31mCannot execute code, session has been disposed. Please try restarting the Kernel."
     ]
    },
    {
     "ename": "",
     "evalue": "",
     "output_type": "error",
     "traceback": [
      "\u001b[1;31mThe Kernel crashed while executing code in the the current cell or a previous cell. Please review the code in the cell(s) to identify a possible cause of the failure. Click <a href='https://aka.ms/vscodeJupyterKernelCrash'>here</a> for more info. View Jupyter <a href='command:jupyter.viewOutput'>log</a> for further details."
     ]
    }
   ],
   "source": [
    "wfs = np.zeros(2,dtype=object)\n",
    "\n",
    "for k,w in enumerate(wfs):\n",
    "    wf =pd.DataFrame(index=ts,columns=xs)\n",
    "    phi1 =(phis.item().get(k)).astype(np.complex256)\n",
    "    for j in range(Nt):\n",
    "        if j == 0:\n",
    "            wf.iloc[0] = phi1\n",
    "        else:\n",
    "            phi2 = np.zeros_like(phi1, dtype=np.complex256)\n",
    "            for i,val in enumerate(phi2):\n",
    "                if (i==0) or (i >= (Nx-1)):\n",
    "                    phi2[i] = 0\n",
    "                else:\n",
    "                    phi2[i] = dt/(1j*hbar)*(-hbar**2/(2*m*dx**2)*(phi1[i+1]-2*phi1[i]+phi1[i-1])+V[i,j]*phi1[i]) + phi1[i]\n",
    "            norm = integrate.simpson((phi2*np.conj(phi2)).real,xs)\n",
    "            phi2 = phi2/np.sqrt(norm)\n",
    "            wf.iloc[j] = phi2\n",
    "            phi1 = phi2          \n",
    "    wfs[k] = wf\n"
   ]
  },
  {
   "cell_type": "code",
   "execution_count": null,
   "metadata": {},
   "outputs": [],
   "source": [
    "pcs = np.zeros(2,dtype=object)\n",
    "\n",
    "for k,w in enumerate(pcs):\n",
    "    pc = pd.DataFrame(index=ts,columns=xs)\n",
    "    for i in range (Nt):\n",
    "        phi = wfs[k].iloc[i].to_numpy()\n",
    "        cur = np.zeros_like(phi)\n",
    "        for j, row in enumerate(cur):\n",
    "            if (j == 0) or (j == (Nx-1)):\n",
    "                cur[j] = 0\n",
    "            else:\n",
    "                cur[j] = ((hbar/m)*(np.conj(phi[j])/1j*(phi[j+1] - phi[j-1])/(dx**2))).real\n",
    "        pc.iloc[i] = cur\n",
    "    pcs[k] = pc"
   ]
  },
  {
   "attachments": {},
   "cell_type": "markdown",
   "metadata": {},
   "source": [
    "### Animation"
   ]
  },
  {
   "attachments": {},
   "cell_type": "markdown",
   "metadata": {},
   "source": [
    "**Animation Function**"
   ]
  },
  {
   "cell_type": "code",
   "execution_count": null,
   "metadata": {},
   "outputs": [
    {
     "data": {
      "image/png": "[encoded data removed]",
      "text/plain": [
       "<Figure size 2000x500 with 4 Axes>"
      ]
     },
     "metadata": {},
     "output_type": "display_data"
    }
   ],
   "source": [
    "fr = 101\n",
    "\n",
    "plt.rcParams['animation.embed_limit'] = 2**128\n",
    "\n",
    "figure, ax1 = plt.subplots(2,2,figsize = (20,5),sharex=True, gridspec_kw={'height_ratios':[2,1]})\n",
    "plt.subplots_adjust(wspace= 0.5,hspace=0.3)\n",
    "\n",
    "def aniFunc(t):\n",
    "    for i,row in enumerate(ax1):\n",
    "        for j,col in enumerate(row):\n",
    "            if i == 0:\n",
    "                ax1[0,j].clear()\n",
    "                a = wfs[j].iloc[int(t*Nt/fr)].to_numpy()\n",
    "                b = (a*np.conj(a)).astype(np.complex256).real\n",
    "                ax1[0,j].plot(xs,b,color='C0')\n",
    "                ax1[0,j].plot(xs,V[:,int(t*Nt/fr)].real,color='C1')\n",
    "                ax1[0,j].grid()\n",
    "                ax1[0,j].set_xlim([-11,11])\n",
    "                ax1[0,j].set_ylim([-0.01,0.15])\n",
    "                ax1[0,j].set_title(r'$E_{}$'.format(j+1))\n",
    "            else:\n",
    "                c = pcs[j].iloc[int(t*Nt/fr)].to_numpy()\n",
    "                ax1[1,j].clear()\n",
    "                ax1[1,j].plot(xs,c,color='C2')\n",
    "                ax1[1,j].grid()\n",
    "                ax1[1,j].set_xlim([-11,11])\n",
    "                ax1[1,j].set_ylim([-2,2])\n",
    "    leg = figure.legend(['$|\\Psi|^2$',' V',' J'],fontsize=15,loc='upper left')\n",
    "    leg.legendHandles[0].set_color('C0')\n",
    "    leg.legendHandles[1].set_color('C1')\n",
    "    leg.legendHandles[2].set_color('C2')\n",
    "    figure.suptitle(r't = {0:.3f}'.format(np.round(ts[int(t*Nt/fr)],3)),fontsize=20)\n",
    "    figure.subplots_adjust(top=0.75)\n",
    "    # ax1[1].set_xlabel(r'$x$')\n",
    "    # # ax1[1].suptitle(r'$E_4$')\n",
    "    # # ax1[1].title(r't = {0:.3f}'.format(np.round(ts[int(i*Nt/fr)],3)))\n",
    "    # # ax1[1].legend(['$|\\Psi|^2$','J','V'])\n",
    "    # ax1[0].grid()\n",
    "\n"
   ]
  },
  {
   "attachments": {},
   "cell_type": "markdown",
   "metadata": {},
   "source": [
    "**Generate Animation**"
   ]
  },
  {
   "cell_type": "code",
   "execution_count": null,
   "metadata": {},
   "outputs": [
    {
     "name": "stderr",
     "output_type": "stream",
     "text": [
      "/tmp/ipykernel_1028/3048589592.py:29: MatplotlibDeprecationWarning: The legendHandles attribute was deprecated in Matplotlib 3.7 and will be removed two minor releases later. Use legend_handles instead.\n",
      "  leg.legendHandles[0].set_color('C0')\n",
      "/tmp/ipykernel_1028/3048589592.py:30: MatplotlibDeprecationWarning: The legendHandles attribute was deprecated in Matplotlib 3.7 and will be removed two minor releases later. Use legend_handles instead.\n",
      "  leg.legendHandles[1].set_color('C1')\n",
      "/tmp/ipykernel_1028/3048589592.py:31: MatplotlibDeprecationWarning: The legendHandles attribute was deprecated in Matplotlib 3.7 and will be removed two minor releases later. Use legend_handles instead.\n",
      "  leg.legendHandles[2].set_color('C2')\n"
     ]
    }
   ],
   "source": [
    "anim = animation.FuncAnimation(figure, func=aniFunc,frames=fr,interval=1)\n",
    "\n",
    "# from IPython.display import HTML\n",
    "# HTML(anim.to_jshtml())\n",
    "writervideo = animation.FFMpegWriter(fps=160)\n",
    "anim.save('E1.mp4', writer=writervideo)"
   ]
  }
 ],
 "metadata": {
  "kernelspec": {
   "display_name": "Python 3",
   "language": "python",
   "name": "python3"
  },
  "language_info": {
   "codemirror_mode": {
    "name": "ipython",
    "version": 3
   },
   "file_extension": ".py",
   "mimetype": "text/x-python",
   "name": "python",
   "nbconvert_exporter": "python",
   "pygments_lexer": "ipython3",
   "version": "3.10.6"
  },
  "orig_nbformat": 4
 },
 "nbformat": 4,
 "nbformat_minor": 2
}
